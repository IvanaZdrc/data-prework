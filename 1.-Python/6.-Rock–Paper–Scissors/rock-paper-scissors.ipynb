{
 "cells": [
  {
   "cell_type": "markdown",
   "metadata": {},
   "source": [
    "<img src=\"https://bit.ly/2VnXWr2\" width=\"100\" align=\"left\">"
   ]
  },
  {
   "cell_type": "markdown",
   "metadata": {},
   "source": [
    "# Rock, Paper & Scissors\n",
    "\n",
    "Let's play the famous game against our computer. You can check the rules [here](https://en.wikipedia.org/wiki/Rock%E2%80%93paper%E2%80%93scissors). \n",
    "\n",
    "## Task\n",
    "Create a program that imitates the playability of the well known game of rock, paper, scissors. Follow the guidelines provided.\n",
    "\n",
    "## Tools\n",
    "1. Loop: **for/while**\n",
    "2. Functions: **input(), print()...**\n",
    "3. Conditional statements: **if, elif, else**\n",
    "4. Definition of functions. Modular programming\n",
    "5. Import modules\n",
    "\n",
    "**To solve this challenge, the use of functions is recommended.**\n",
    "\n",
    "#### 1. Import the choice function of the random module."
   ]
  },
  {
   "cell_type": "code",
   "execution_count": 13,
   "metadata": {},
   "outputs": [],
   "source": [
    "import random"
   ]
  },
  {
   "cell_type": "markdown",
   "metadata": {},
   "source": [
    "#### 2. Create a list that includes the 3 possible gesture options of the game: 'rock', 'paper' or 'scissors'. Store the list in a variable called `gestures`."
   ]
  },
  {
   "cell_type": "code",
   "execution_count": 14,
   "metadata": {},
   "outputs": [],
   "source": [
    "gestures = [\"rock\", \"paper\", \"scissors\"]"
   ]
  },
  {
   "cell_type": "markdown",
   "metadata": {},
   "source": [
    "#### 3. Create a variable called `n_rounds` to store the maximum number of rounds to play in a game. \n",
    "Remember that the number of rounds must be odd: 1, 3, 5, ..."
   ]
  },
  {
   "cell_type": "code",
   "execution_count": 15,
   "metadata": {},
   "outputs": [],
   "source": [
    "n_rounds = 5"
   ]
  },
  {
   "cell_type": "markdown",
   "metadata": {},
   "source": [
    "#### 4. Create a variable called `rounds_to_win` to store the number of rounds that a player must win to win the game.\n",
    "**Hint**: the value stored in `rounds_to_win` depends on the value of `n_rounds`. "
   ]
  },
  {
   "cell_type": "code",
   "execution_count": 16,
   "metadata": {},
   "outputs": [],
   "source": [
    "rounds_to_win = 3"
   ]
  },
  {
   "cell_type": "markdown",
   "metadata": {},
   "source": [
    "#### 5. Create two variables to store the number of rounds that the computer and the player have won. Call these variables `cpu_score` and `player_score`."
   ]
  },
  {
   "cell_type": "code",
   "execution_count": 17,
   "metadata": {},
   "outputs": [],
   "source": [
    "cpu_score = 0\n",
    "player_score = 0"
   ]
  },
  {
   "cell_type": "markdown",
   "metadata": {},
   "source": [
    "#### 6. Define a function that randomly returns one of the 3 gesture options.\n",
    "You will use this function to simulate the gesture choice of the computer. "
   ]
  },
  {
   "cell_type": "code",
   "execution_count": 18,
   "metadata": {},
   "outputs": [],
   "source": [
    "def computers_choice():\n",
    "    return random.choice(gestures)"
   ]
  },
  {
   "cell_type": "markdown",
   "metadata": {},
   "source": [
    "#### 7. Define a function that asks the player which is the gesture he or she wants to show: 'rock', 'paper' or 'scissors'.\n",
    "The player should only be allowed to choose one of the 3 gesture options. If the player's choice is not rock, paper or scissors, keep asking until it is."
   ]
  },
  {
   "cell_type": "code",
   "execution_count": 19,
   "metadata": {},
   "outputs": [],
   "source": [
    "def players_choice():\n",
    "    while True:\n",
    "        try:\n",
    "            x = input(\"Enter rock/paper/scissors: \")\n",
    "        except ValueError:\n",
    "            print(\"Error.\")\n",
    "            continue\n",
    "        if (x == \"rock\") or (x == \"paper\") or (x == \"scissors\"):\n",
    "            return x\n",
    "        else:\n",
    "            print(\"Sorry, wrong choice. Please try again!\")\n",
    "        break"
   ]
  },
  {
   "cell_type": "markdown",
   "metadata": {},
   "source": [
    "#### 8. Define a function that checks who won a round. \n",
    "The function should return 0 if there is a tie, 1 if the computer wins and 2 if the player wins."
   ]
  },
  {
   "cell_type": "code",
   "execution_count": 20,
   "metadata": {},
   "outputs": [],
   "source": [
    "def round_winner():\n",
    "    x = computers_choice()\n",
    "    y = players_choice()\n",
    "    if (x == \"rock\") and (y == \"paper\"):\n",
    "        print(\"Computer chose: \", x)\n",
    "        print(\"Player chose: \", y)\n",
    "        print(\"The winner of the round is Player!\")\n",
    "        return 2\n",
    "    elif (x == \"rock\") and (y == \"scissors\"):\n",
    "        print(\"Computer chose: \", x)\n",
    "        print(\"Player chose: \", y)\n",
    "        print(\"The winner of the round is Computer!\")\n",
    "        return 1\n",
    "    elif (x == \"rock\") and (y == \"rock\"):\n",
    "        print(\"Computer chose: \", x)\n",
    "        print(\"Player chose: \", y)\n",
    "        print(\"Tie!\")\n",
    "        return 0\n",
    "    elif (x == \"paper\") and (y == \"paper\"):\n",
    "        print(\"Computer chose: \", x)\n",
    "        print(\"Player chose: \", y)\n",
    "        print(\"Tie!\")\n",
    "        return 0\n",
    "    elif (x == \"paper\") and (y == \"scissors\"):\n",
    "        print(\"Computer chose: \", x)\n",
    "        print(\"Player chose: \", y)\n",
    "        print(\"The winner of the round is Player!\")\n",
    "        return 2\n",
    "    elif (x == \"paper\") and (y == \"rock\"):\n",
    "        print(\"Computer chose: \", x)\n",
    "        print(\"Player chose: \", y)\n",
    "        print(\"The winner of the round is Computer!\")\n",
    "        return 1\n",
    "    elif (x == \"scissors\") and (y == \"paper\"):\n",
    "        print(\"Computer chose: \", x)\n",
    "        print(\"Player chose: \", y)\n",
    "        print(\"The winner of the round is Computer!\")\n",
    "        return 1\n",
    "    elif (x == \"scissors\") and (y == \"scissors\"):\n",
    "        print(\"Computer chose: \", x)\n",
    "        print(\"Player chose: \", y)\n",
    "        print(\"Tie!\")\n",
    "        return 0\n",
    "    elif (x == \"scissors\") and (y == \"rock\"):\n",
    "        print(\"Computer chose: \", x)\n",
    "        print(\"Player chose: \", y)\n",
    "        print(\"The winner of the round is Player!\")\n",
    "        return 2"
   ]
  },
  {
   "cell_type": "markdown",
   "metadata": {},
   "source": [
    "#### 9. Define a function that prints the choice of the computer, the choice of the player and a message that announces who won the current round. \n",
    "You should also use this function to update the variables that count the number of rounds that the computer and the player have won. The score of the winner increases by one point. If there is a tie, the score does not increase."
   ]
  },
  {
   "cell_type": "code",
   "execution_count": null,
   "metadata": {},
   "outputs": [],
   "source": [
    "    "
   ]
  },
  {
   "cell_type": "markdown",
   "metadata": {},
   "source": [
    "#### 10. Now it's time to code the execution of the game using the functions and variables you defined above. \n",
    "\n",
    "First, create a loop structure that repeats while no player reaches the minimum score necessary to win and the number of rounds is less than the maximum number of rounds to play in a game.  \n",
    "\n",
    "Inside the loop, use the functions and variables above to create the execution of a round: ask for the player's choice, generate the random choice of the computer, show the round results, update the scores, etc. "
   ]
  },
  {
   "cell_type": "code",
   "execution_count": 21,
   "metadata": {},
   "outputs": [
    {
     "name": "stdout",
     "output_type": "stream",
     "text": [
      "Enter rock/paper/scissors: rock\n",
      "Computer chose:  scissors\n",
      "Player chose:  rock\n",
      "The winner of the round is Player!\n",
      "Score Computer vs Player 0 : 1\n",
      "Enter rock/paper/scissors: paper\n",
      "Computer chose:  paper\n",
      "Player chose:  paper\n",
      "Tie!\n",
      "Score Computer vs Player 0 : 1\n",
      "Enter rock/paper/scissors: rock\n",
      "Computer chose:  scissors\n",
      "Player chose:  rock\n",
      "The winner of the round is Player!\n",
      "Score Computer vs Player 0 : 2\n",
      "Enter rock/paper/scissors: rock\n",
      "Computer chose:  rock\n",
      "Player chose:  rock\n",
      "Tie!\n",
      "Score Computer vs Player 0 : 2\n",
      "Enter rock/paper/scissors: paper\n",
      "Computer chose:  scissors\n",
      "Player chose:  paper\n",
      "The winner of the round is Computer!\n",
      "Score Computer vs Player 1 : 2\n",
      "No winners. It's a tie!\n"
     ]
    }
   ],
   "source": [
    "x = cpu_score\n",
    "y = player_score\n",
    "\n",
    "def result():\n",
    "    x = 0\n",
    "    y = 0\n",
    "    for i in range(n_rounds):\n",
    "        z = round_winner()\n",
    "        if z == 1:\n",
    "            x += 1\n",
    "            print(\"Score Computer vs Player\", x, ':', y)\n",
    "        elif z == 2:\n",
    "            y += 1\n",
    "            print(\"Score Computer vs Player\", x, ':', y)\n",
    "        elif z == 0:\n",
    "            print(\"Score Computer vs Player\", x, ':', y)\n",
    "        if x == rounds_to_win:\n",
    "            print(\"Computer won the game!\")\n",
    "            break\n",
    "        elif y == rounds_to_win:\n",
    "            print(\"Player won the game!\")\n",
    "            break\n",
    "    else:\n",
    "        print(\"No winners. It's a tie!\")\n",
    "        \n",
    "result()"
   ]
  },
  {
   "cell_type": "markdown",
   "metadata": {},
   "source": [
    "#### 11. Print the winner of the game based on who won more rounds.\n",
    "Remember that the game might be tied. "
   ]
  },
  {
   "cell_type": "code",
   "execution_count": 22,
   "metadata": {},
   "outputs": [
    {
     "name": "stdout",
     "output_type": "stream",
     "text": [
      "No one won. It's a tie!\n"
     ]
    }
   ],
   "source": [
    "if x > y:\n",
    "    print(\"Computer is the ultimate winner!\")\n",
    "elif x < y:\n",
    "    print(\"Player is the ultimate winner!\")\n",
    "else:\n",
    "    print(\"No one won. It's a tie!\")"
   ]
  },
  {
   "cell_type": "markdown",
   "metadata": {},
   "source": [
    "# Bonus: Rock, Paper, Scissors, Lizard & Spock\n",
    "![](images/rpsls.jpg)\n",
    "\n",
    "In this challenge, you need to improve the previous game by adding two new options. To know more about the rules of the improved version of rock, paper, scissors, check this [link](http://www.samkass.com/theories/RPSSL.html). \n",
    "\n",
    "In addition, you will also need to improve how the game interacts with the player: the number of rounds to play, which must be an odd number, will be requested to the user until a valid number is entered. Define a new function to make that request.\n",
    "\n",
    "**Hint**: Try to reuse the code that you already coded in the previous challenge. If your code is efficient, this bonus will only consist of simple modifications to the original game."
   ]
  },
  {
   "cell_type": "code",
   "execution_count": 23,
   "metadata": {},
   "outputs": [
    {
     "name": "stdout",
     "output_type": "stream",
     "text": [
      "Please enter an odd number: 5\n",
      "Enter rock/paper/scissors/lizard/spock: rock\n",
      "Computer chose:  scissors\n",
      "Player chose:  rock\n",
      "Player won!\n",
      "Score Computer vs Player 0 : 1\n",
      "Enter rock/paper/scissors/lizard/spock: spock\n",
      "Computer chose:  lizard\n",
      "Player chose:  spock\n",
      "Computer won!\n",
      "Score Computer vs Player 1 : 1\n",
      "Enter rock/paper/scissors/lizard/spock: paper\n",
      "Computer chose:  lizard\n",
      "Player chose:  paper\n",
      "Computer won!\n",
      "Score Computer vs Player 2 : 1\n",
      "Enter rock/paper/scissors/lizard/spock: paper\n",
      "Computer chose:  paper\n",
      "Player chose:  paper\n",
      "Tie!\n",
      "Score Computer vs Player 2 : 1\n",
      "Enter rock/paper/scissors/lizard/spock: rock\n",
      "Computer chose:  scissors\n",
      "Player chose:  rock\n",
      "Player won!\n",
      "Score Computer vs Player 2 : 2\n",
      "No winners. It's a tie!\n"
     ]
    }
   ],
   "source": [
    "\n",
    "import random\n",
    "gestures = ['stone', 'paper', 'scissors', 'lizard', 'spock']\n",
    "\n",
    "def odd_input():\n",
    "    while True:\n",
    "        try:\n",
    "            x = input(\"Please enter an odd number: \")\n",
    "        except ValueError:\n",
    "            print(\"Sorry, wrong choice. Please try again.\")\n",
    "            continue\n",
    "        if int(x) % 2 != 0:\n",
    "            return x\n",
    "            break\n",
    "        elif str():\n",
    "            return x\n",
    "            break\n",
    "\n",
    "        else:\n",
    "            print(\"Please enter again.\")\n",
    "\n",
    "n_rounds = int(odd_input())\n",
    "rounds_to_win = round(n_rounds / 3) + 1\n",
    "\n",
    "def computers_choice():\n",
    "    return random.choice(gestures)\n",
    "\n",
    "def players_choice():\n",
    "    while True:\n",
    "        try:\n",
    "            x = input(\"Enter rock/paper/scissors/lizard/spock: \")\n",
    "        except ValueError:\n",
    "            print(\"Sorry, wrong choice. Please try again.\")\n",
    "            continue\n",
    "        if (x == \"paper\") or ( x == \"rock\") or (x == \"scissors\") or (x == \"lizard\") or (x == \"spock\"):\n",
    "            return x\n",
    "        break\n",
    "    else:\n",
    "        print(\"Please enter again.\")\n",
    "\n",
    "\n",
    "def round_winner():\n",
    "    x = computers_choice() \n",
    "    y = players_choice()  \n",
    "    if (x == \"rock\") and (y == \"paper\"):\n",
    "        print(\"Computer chose: \", x)\n",
    "        print(\"Player chose: \", y)\n",
    "        print(\"Player won!\")\n",
    "        return 2\n",
    "    elif (x == \"rock\") and (y == \"scissors\"):\n",
    "        print(\"Computer chose: \", x)\n",
    "        print(\"Player chose: \", y)\n",
    "        print(\"Computer won!\")\n",
    "        return 1\n",
    "    elif (x == \"rock\") and (y == \"rock\"):\n",
    "        print(\"Computer chose: \", x)\n",
    "        print(\"Player chose: \", y)\n",
    "        print(\"Tie!\")\n",
    "        return 0\n",
    "    elif (x == \"rock\") and (y == \"lizard\"):\n",
    "        print(\"Computer chose: \", x)\n",
    "        print(\"Player chose: \", y)\n",
    "        print(\"Computer won!\")\n",
    "        return 1\n",
    "    elif (x == \"rock\") and (y == \"spock\"):\n",
    "        print(\"Computer chose: \", x)\n",
    "        print(\"Player chose: \", y)\n",
    "        print(\"Player won!\")\n",
    "        return 2\n",
    "    elif (x == \"paper\") and (y == \"paper\"):\n",
    "        print(\"Computer chose: \", x)\n",
    "        print(\"Player chose: \", y)\n",
    "        print(\"Tie!\")\n",
    "        return 0\n",
    "    elif (x == \"paper\") and (y == \"scissors\"):\n",
    "        print(\"Computer chose: \", x)\n",
    "        print(\"Player chose: \", y)\n",
    "        print(\"Player won!\")\n",
    "        return 2\n",
    "    elif (x == \"paper\") and (y == \"rock\"):\n",
    "        print(\"Computer chose: \", x)\n",
    "        print(\"Player chose: \", y)\n",
    "        print(\"Computer won!\")\n",
    "        return 1\n",
    "    elif (x == \"paper\") and (y == \"spock\"):\n",
    "        print(\"Computer chose: \", x)\n",
    "        print(\"Player chose: \", y)\n",
    "        print(\"Computer won!\")\n",
    "        return 1\n",
    "    elif (x == \"paper\") and (y == \"lizard\"):\n",
    "        print(\"Computer chose: \", x)\n",
    "        print(\"Player chose: \", y)\n",
    "        print(\"Player won!\")\n",
    "        return 2\n",
    "    elif (x == \"scissors\") and (y == \"paper\"):\n",
    "        print(\"Computer chose: \", x)\n",
    "        print(\"Player chose: \", y)\n",
    "        print(\"Computer won!\")\n",
    "        return 1\n",
    "    elif (x == \"scissors\") and (y == \"scissors\"):\n",
    "        print(\"Computer chose: \", x)\n",
    "        print(\"Player chose: \", y)\n",
    "        print(\"Tie!\")\n",
    "        return 0\n",
    "    elif (x == \"scissors\") and (y == \"rock\"):\n",
    "        print(\"Computer chose: \", x)\n",
    "        print(\"Player chose: \", y)\n",
    "        print(\"Player won!\")\n",
    "        return 2\n",
    "    elif (x == \"scissors\") and (y == \"lizard\"):\n",
    "        print(\"Computer chose: \", x)\n",
    "        print(\"Player chose: \", y)\n",
    "        print(\"Computer won!\")\n",
    "        return 1\n",
    "    elif (x == \"scissors\") and (y == \"spock\"):\n",
    "        print(\"Computer chose: \", x)\n",
    "        print(\"Player chose: \", y)\n",
    "        print(\"Player won!\")\n",
    "        return 2\n",
    "    elif (x == \"lizard\") and (y == \"lizard\"):\n",
    "        print(\"Computer chose: \", x)\n",
    "        print(\"Player chose: \", y)\n",
    "        print(\"Tie!\")\n",
    "        return 0\n",
    "    elif (x == \"lizard\") and (y == \"paper\"):\n",
    "        print(\"Computer chose: \", x)\n",
    "        print(\"Player chose: \", y)\n",
    "        print(\"Computer won!\")\n",
    "        return 1\n",
    "    elif (x == \"lizard\") and (y == \"spock\"):\n",
    "        print(\"Computer chose: \", x)\n",
    "        print(\"Player chose: \", y)\n",
    "        print(\"Computer won!\")\n",
    "        return 1\n",
    "    elif (x == \"lizard\") and (y == \"rock\"):\n",
    "        print(\"Computer chose: \", x)\n",
    "        print(\"Player chose: \", y)\n",
    "        print(\"Player won!\")\n",
    "        return 2\n",
    "    elif (x == \"lizard\") and (y == \"scissors\"):\n",
    "        print(\"Computer chose: \", x)\n",
    "        print(\"Player chose: \", y)\n",
    "        print(\"Player won!\")\n",
    "        return 2\n",
    "    elif (x == \"spock\") and (y == \"spock\"):\n",
    "        print(\"Computer chose: \", x)\n",
    "        print(\"Player chose: \", y)\n",
    "        print(\"Tie!\")\n",
    "        return 0\n",
    "    elif (x == \"spock\") and (y == \"paper\"):\n",
    "        print(\"Computer chose: \", x)\n",
    "        print(\"Player chose: \", y)\n",
    "        print(\"Player won!\")\n",
    "        return 2\n",
    "    elif (x == \"spock\") and (y == \"rock\"):\n",
    "        print(\"Computer chose: \", x)\n",
    "        print(\"Player chose: \", y)\n",
    "        print(\"Copmputer won!\")\n",
    "        return 1\n",
    "    elif (x == \"spock\") and (y == \"scissors\"):\n",
    "        print(\"Computer chose: \", x)\n",
    "        print(\"Player chose: \", y)\n",
    "        print(\"Computer won!\")\n",
    "        return 1\n",
    "    elif (x == \"spock\") and (y == \"lizard\"):\n",
    "        print(\"Computer chose: \", x)\n",
    "        print(\"Player chose: \", y)\n",
    "        print(\"Player won!\")\n",
    "        return 2\n",
    "\n",
    "\n",
    "def result():\n",
    "    x = 0\n",
    "    y = 0\n",
    "    for i in range(n_rounds):\n",
    "        z = round_winner()\n",
    "        if z == 1:\n",
    "            x += 1\n",
    "            print(\"Score Computer vs Player\", x, ':', y)\n",
    "        elif z == 2:\n",
    "            y += 1\n",
    "            print(\"Score Computer vs Player\", x, ':', y)\n",
    "        elif z == 0:\n",
    "            print(\"Score Computer vs Player\", x, ':', y)\n",
    "        if x == rounds_to_win:\n",
    "            print(\"Computer won the game!\")\n",
    "            break\n",
    "        elif y == rounds_to_win:\n",
    "            print(\"Player won the game!\")\n",
    "            break\n",
    "    else:\n",
    "        print(\"No winners. It's a tie!\")\n",
    "\n",
    "result()"
   ]
  },
  {
   "cell_type": "code",
   "execution_count": null,
   "metadata": {},
   "outputs": [],
   "source": []
  }
 ],
 "metadata": {
  "kernelspec": {
   "display_name": "Python 3",
   "language": "python",
   "name": "python3"
  },
  "language_info": {
   "codemirror_mode": {
    "name": "ipython",
    "version": 3
   },
   "file_extension": ".py",
   "mimetype": "text/x-python",
   "name": "python",
   "nbconvert_exporter": "python",
   "pygments_lexer": "ipython3",
   "version": "3.8.3"
  }
 },
 "nbformat": 4,
 "nbformat_minor": 2
}
